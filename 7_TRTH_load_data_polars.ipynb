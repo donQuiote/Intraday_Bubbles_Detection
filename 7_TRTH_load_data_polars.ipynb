{
 "cells": [
  {
   "cell_type": "markdown",
   "metadata": {},
   "source": [
    "# 5 Thomson-Reuters Tick History intraday data\n"
   ]
  },
  {
   "cell_type": "code",
   "metadata": {
    "ExecuteTime": {
     "end_time": "2024-12-18T16:35:32.796332Z",
     "start_time": "2024-12-18T16:35:32.719333Z"
    }
   },
   "source": [
    "import polars as pl\n",
    "import numpy as np\n",
    "\n",
    "import glob\n",
    "\n",
    "allfiles=glob.glob(\"data/raw/TRTH/equities/US/*trade*\")"
   ],
   "outputs": [],
   "execution_count": 1
  },
  {
   "cell_type": "markdown",
   "metadata": {},
   "source": [
    "### 1. Data exploration"
   ]
  },
  {
   "cell_type": "code",
   "metadata": {
    "tags": [],
    "ExecuteTime": {
     "end_time": "2024-12-18T16:35:35.804666Z",
     "start_time": "2024-12-18T16:35:35.627987Z"
    }
   },
   "source": [
    "print(allfiles[0])\n",
    "\n",
    "DF=pl.read_csv(allfiles[0])\n",
    "DF"
   ],
   "outputs": [
    {
     "ename": "IndexError",
     "evalue": "list index out of range",
     "output_type": "error",
     "traceback": [
      "\u001B[0;31m---------------------------------------------------------------------------\u001B[0m",
      "\u001B[0;31mIndexError\u001B[0m                                Traceback (most recent call last)",
      "Cell \u001B[0;32mIn[2], line 1\u001B[0m\n\u001B[0;32m----> 1\u001B[0m \u001B[38;5;28mprint\u001B[39m(allfiles[\u001B[38;5;241m0\u001B[39m])\n\u001B[1;32m      3\u001B[0m DF\u001B[38;5;241m=\u001B[39mpl\u001B[38;5;241m.\u001B[39mread_csv(allfiles[\u001B[38;5;241m0\u001B[39m])\n\u001B[1;32m      4\u001B[0m DF\n",
      "\u001B[0;31mIndexError\u001B[0m: list index out of range"
     ]
    }
   ],
   "execution_count": 2
  },
  {
   "cell_type": "markdown",
   "metadata": {},
   "source": [
    "xltime is a timestamp in a peculiar format; trade-price and trade-volume are straightforward; trade-stringflag deserves further study; trade_rawflag is clearly quite complex and will be left out of the discussion.\n",
    "\n",
    "There are quite many lines for a single day of trade: SPY is one of the most traded ETFs.\n",
    "\n",
    "Let us see now what kinds of trade_stringflag there are:"
   ]
  },
  {
   "cell_type": "code",
   "execution_count": 10,
   "metadata": {},
   "outputs": [
    {
     "data": {
      "text/html": [
       "<div><style>\n",
       ".dataframe > thead > tr,\n",
       ".dataframe > tbody > tr {\n",
       "  text-align: right;\n",
       "  white-space: pre-wrap;\n",
       "}\n",
       "</style>\n",
       "<small>shape: (7, 2)</small><table border=\"1\" class=\"dataframe\"><thead><tr><th>trade-stringflag</th><th>count</th></tr><tr><td>str</td><td>u32</td></tr></thead><tbody><tr><td>&quot;blocktrade&quot;</td><td>467</td></tr><tr><td>&quot;blocktrade|auction&quot;</td><td>13</td></tr><tr><td>&quot;blocktrade|marketclosed|volume…</td><td>41</td></tr><tr><td>&quot;marketclosed|volumeupdate&quot;</td><td>9650</td></tr><tr><td>&quot;theoricalprice&quot;</td><td>1</td></tr><tr><td>&quot;uncategorized&quot;</td><td>200878</td></tr><tr><td>&quot;auction&quot;</td><td>341</td></tr></tbody></table></div>"
      ],
      "text/plain": [
       "shape: (7, 2)\n",
       "┌─────────────────────────────────┬────────┐\n",
       "│ trade-stringflag                ┆ count  │\n",
       "│ ---                             ┆ ---    │\n",
       "│ str                             ┆ u32    │\n",
       "╞═════════════════════════════════╪════════╡\n",
       "│ blocktrade                      ┆ 467    │\n",
       "│ blocktrade|auction              ┆ 13     │\n",
       "│ blocktrade|marketclosed|volume… ┆ 41     │\n",
       "│ marketclosed|volumeupdate       ┆ 9650   │\n",
       "│ theoricalprice                  ┆ 1      │\n",
       "│ uncategorized                   ┆ 200878 │\n",
       "│ auction                         ┆ 341    │\n",
       "└─────────────────────────────────┴────────┘"
      ]
     },
     "execution_count": 10,
     "metadata": {},
     "output_type": "execute_result"
    }
   ],
   "source": [
    "DF[\"trade-stringflag\"].value_counts()"
   ]
  },
  {
   "cell_type": "markdown",
   "metadata": {},
   "source": [
    "Let us only keep the uncategorized (read: non-special) lines"
   ]
  },
  {
   "cell_type": "code",
   "execution_count": 11,
   "metadata": {},
   "outputs": [],
   "source": [
    "DF=DF.filter(pl.col(\"trade-stringflag\")==\"uncategorized\")"
   ]
  },
  {
   "cell_type": "markdown",
   "metadata": {},
   "source": [
    "### 2. Timestamp\n",
    "\n"
   ]
  },
  {
   "cell_type": "code",
   "execution_count": 12,
   "metadata": {},
   "outputs": [],
   "source": [
    "import polars as pl\n",
    "\n",
    "# Define a reference date (Excel-style)\n",
    "excel_base_date = pl.datetime(1899, 12, 30)  # Excel starts counting from 1900-01-01, but Polars needs 1899-12-30\n",
    "\n",
    "# Convert the float days to a proper date\n",
    "DF = DF.with_columns(\n",
    "    (pl.col(\"xltime\") * pl.duration(days=1) + excel_base_date).alias(\"index\")\n",
    ")\n",
    "DF = DF.with_columns(pl.col(\"index\").dt.convert_time_zone(\"America/New_York\"))\n"
   ]
  },
  {
   "cell_type": "code",
   "execution_count": 13,
   "metadata": {},
   "outputs": [
    {
     "data": {
      "text/html": [
       "<div><style>\n",
       ".dataframe > thead > tr,\n",
       ".dataframe > tbody > tr {\n",
       "  text-align: right;\n",
       "  white-space: pre-wrap;\n",
       "}\n",
       "</style>\n",
       "<small>shape: (200_878, 3)</small><table border=\"1\" class=\"dataframe\"><thead><tr><th>trade-price</th><th>trade-volume</th><th>index</th></tr><tr><td>f64</td><td>i64</td><td>datetime[μs, America/New_York]</td></tr></thead><tbody><tr><td>114.89</td><td>100</td><td>2010-05-18 09:30:01.221 EDT</td></tr><tr><td>114.89</td><td>100</td><td>2010-05-18 09:30:01.221 EDT</td></tr><tr><td>114.89</td><td>100</td><td>2010-05-18 09:30:01.229 EDT</td></tr><tr><td>114.89</td><td>200</td><td>2010-05-18 09:30:01.229 EDT</td></tr><tr><td>114.89</td><td>200</td><td>2010-05-18 09:30:01.229 EDT</td></tr><tr><td>&hellip;</td><td>&hellip;</td><td>&hellip;</td></tr><tr><td>112.42</td><td>400</td><td>2010-05-18 16:00:00.610 EDT</td></tr><tr><td>112.42</td><td>300</td><td>2010-05-18 16:00:00.610 EDT</td></tr><tr><td>112.42</td><td>700</td><td>2010-05-18 16:00:00.610 EDT</td></tr><tr><td>112.42</td><td>200</td><td>2010-05-18 16:00:00.610 EDT</td></tr><tr><td>112.43</td><td>0</td><td>2010-05-18 16:00:00.806 EDT</td></tr></tbody></table></div>"
      ],
      "text/plain": [
       "shape: (200_878, 3)\n",
       "┌─────────────┬──────────────┬────────────────────────────────┐\n",
       "│ trade-price ┆ trade-volume ┆ index                          │\n",
       "│ ---         ┆ ---          ┆ ---                            │\n",
       "│ f64         ┆ i64          ┆ datetime[μs, America/New_York] │\n",
       "╞═════════════╪══════════════╪════════════════════════════════╡\n",
       "│ 114.89      ┆ 100          ┆ 2010-05-18 09:30:01.221 EDT    │\n",
       "│ 114.89      ┆ 100          ┆ 2010-05-18 09:30:01.221 EDT    │\n",
       "│ 114.89      ┆ 100          ┆ 2010-05-18 09:30:01.229 EDT    │\n",
       "│ 114.89      ┆ 200          ┆ 2010-05-18 09:30:01.229 EDT    │\n",
       "│ 114.89      ┆ 200          ┆ 2010-05-18 09:30:01.229 EDT    │\n",
       "│ …           ┆ …            ┆ …                              │\n",
       "│ 112.42      ┆ 400          ┆ 2010-05-18 16:00:00.610 EDT    │\n",
       "│ 112.42      ┆ 300          ┆ 2010-05-18 16:00:00.610 EDT    │\n",
       "│ 112.42      ┆ 700          ┆ 2010-05-18 16:00:00.610 EDT    │\n",
       "│ 112.42      ┆ 200          ┆ 2010-05-18 16:00:00.610 EDT    │\n",
       "│ 112.43      ┆ 0            ┆ 2010-05-18 16:00:00.806 EDT    │\n",
       "└─────────────┴──────────────┴────────────────────────────────┘"
      ]
     },
     "execution_count": 13,
     "metadata": {},
     "output_type": "execute_result"
    }
   ],
   "source": [
    "\n",
    "DF.drop([\"xltime\",\"trade-rawflag\",\"trade-stringflag\"])\n"
   ]
  },
  {
   "cell_type": "markdown",
   "metadata": {},
   "source": [
    "### 3. Function"
   ]
  },
  {
   "cell_type": "code",
   "execution_count": 14,
   "metadata": {},
   "outputs": [],
   "source": [
    "def load_TRTH_trade(filename,\n",
    "            tz_exchange=\"America/New_York\",\n",
    "            only_non_special_trades=True,\n",
    "            only_regular_trading_hours=True,\n",
    "            merge_sub_trades=True):\n",
    "    try:\n",
    "        if filename.endswith(\"csv\") or filename.endswith(\"csv.gz\"):\n",
    "            DF=pl.read_csv(filename)\n",
    "        elif filename.endswith(\"parquet\"):    \n",
    "            DF=pl.read_parquet(filename)\n",
    "        else:\n",
    "            print(\"cannot load file \"+filename+\" : unknown format\")\n",
    "            return None\n",
    "    except:\n",
    "        print(filename+\" cannot be loaded\")\n",
    "        return None\n",
    "\n",
    "    excel_base_date = pl.datetime(1899, 12, 30)  # Excel starts counting from 1900-01-01, but Polars needs 1899-12-30\n",
    "    DF = DF.with_columns(\n",
    "        (pl.col(\"xltime\") * pl.duration(days=1) + excel_base_date).alias(\"index\")\n",
    "    )\n",
    "    DF = DF.with_columns(pl.col(\"index\").dt.convert_time_zone(tz_exchange))\n",
    "    DF.drop([\"xltime\",\"trade-rawflag\",\"trade-stringflag\"])\n",
    "\n",
    "    if only_non_special_trades:\n",
    "        DF=DF.filter(pl.col(\"trade-stringflag\")==\"uncategorized\")\n",
    "\n",
    "    if merge_sub_trades:   # average volume-weighted trade price here\n",
    "        DF=DF.group_by('index',maintain_order=True).agg([(pl.col('trade-price')*pl.col('trade-volume')).sum()/(pl.col('trade-volume').sum()).alias('trade-price'),pl.sum('trade-volume')])        \n",
    "    \n",
    "    return DF\n",
    "\n"
   ]
  },
  {
   "cell_type": "code",
   "execution_count": 1,
   "metadata": {},
   "outputs": [],
   "source": [
    "def load_TRTH_bbo(filename,\n",
    "            tz_exchange=\"America/New_York\",\n",
    "            only_regular_trading_hours=True,\n",
    "            hhmmss_open=\"09:30:00\",\n",
    "            hhmmss_close=\"16:00:00\",\n",
    "            merge_same_index=True):\n",
    "    try:\n",
    "        if filename.endswith(\"csv\") or filename.endswith(\"csv.gz\"):\n",
    "            DF=pl.read_csv(filename)\n",
    "        elif filename.endswith(\"parquet\"):    \n",
    "            DF=pl.read_parquet(filename)\n",
    "        else:\n",
    "            print(\"cannot load file \"+filename+\" : unknown format\")\n",
    "            return None\n",
    "    except:\n",
    "        print(filename+\" cannot be loaded\")\n",
    "        return None\n",
    "\n",
    "    excel_base_date = pl.datetime(1899, 12, 30)  # Excel starts counting from 1900-01-01, but Polars needs 1899-12-30\n",
    "    DF = DF.with_columns(\n",
    "        (pl.col(\"xltime\") * pl.duration(days=1) + excel_base_date).alias(\"index\")\n",
    "    )\n",
    "    DF = DF.with_columns(pl.col(\"index\").dt.convert_time_zone(tz_exchange))\n",
    "    DF.drop(\"xltime\")\n",
    "\n",
    "    # apply common sense filter\n",
    "    DF = DF.filter(pl.col(\"ask-price\")>0).filter(pl.col(\"bid-price\")>0).filter(pl.col(\"ask-price\")>pl.col(\"bid-price\"))\n",
    "\n",
    "    if merge_same_index:\n",
    "        DF = DF.group_by('index',maintain_order=True).last()   # last quote of the same timestamp\n",
    "    \n",
    "    if only_regular_trading_hours:\n",
    "        hh_open,mm_open,ss_open = [float(x) for x in hhmmss_open.split(\":\")]\n",
    "        hh_close,mm_close,ss_close = [float(x) for x in hhmmss_close.split(\":\")]\n",
    "\n",
    "        seconds_open=hh_open*3600+mm_open*60+ss_open\n",
    "        seconds_close=hh_close*3600+mm_close*60+ss_close\n",
    "\n",
    "        DF = DF.filter(pl.col('index').dt.hour().cast(float)*3600+pl.col('index').dt.minute().cast(float)*60+pl.col('index').dt.second()>=seconds_open,\n",
    "                       pl.col('index').dt.hour().cast(float)*3600+pl.col('index').dt.minute().cast(float)*60+pl.col('index').dt.second()<=seconds_close)\n",
    "    \n",
    "    return DF\n",
    "\n"
   ]
  },
  {
   "cell_type": "code",
   "execution_count": 33,
   "metadata": {},
   "outputs": [
    {
     "data": {
      "text/html": [
       "<div><style>\n",
       ".dataframe > thead > tr,\n",
       ".dataframe > tbody > tr {\n",
       "  text-align: right;\n",
       "  white-space: pre-wrap;\n",
       "}\n",
       "</style>\n",
       "<small>shape: (58_513, 3)</small><table border=\"1\" class=\"dataframe\"><thead><tr><th>by</th><th>trade-price</th><th>trade-volume</th></tr><tr><td>datetime[μs, America/New_York]</td><td>f64</td><td>i32</td></tr></thead><tbody><tr><td>2009-01-07 09:30:02.045 EST</td><td>92.0</td><td>500</td></tr><tr><td>2009-01-07 09:30:02.054999 EST</td><td>92.0</td><td>2427</td></tr><tr><td>2009-01-07 09:30:02.064999 EST</td><td>92.0</td><td>5378</td></tr><tr><td>2009-01-07 09:30:02.105 EST</td><td>92.0</td><td>3541</td></tr><tr><td>2009-01-07 09:30:02.108999 EST</td><td>92.0</td><td>11422</td></tr><tr><td>&hellip;</td><td>&hellip;</td><td>&hellip;</td></tr><tr><td>2009-01-07 16:00:01.065 EST</td><td>90.641931</td><td>12945</td></tr><tr><td>2009-01-07 16:00:01.087 EST</td><td>90.62</td><td>6078204</td></tr><tr><td>2009-01-07 16:00:01.098 EST</td><td>90.62</td><td>147663</td></tr><tr><td>2009-01-07 16:00:01.099 EST</td><td>90.62</td><td>41201</td></tr><tr><td>2009-01-07 16:00:01.100 EST</td><td>90.62</td><td>100</td></tr></tbody></table></div>"
      ],
      "text/plain": [
       "shape: (58_513, 3)\n",
       "┌────────────────────────────────┬─────────────┬──────────────┐\n",
       "│ by                             ┆ trade-price ┆ trade-volume │\n",
       "│ ---                            ┆ ---         ┆ ---          │\n",
       "│ datetime[μs, America/New_York] ┆ f64         ┆ i32          │\n",
       "╞════════════════════════════════╪═════════════╪══════════════╡\n",
       "│ 2009-01-07 09:30:02.045 EST    ┆ 92.0        ┆ 500          │\n",
       "│ 2009-01-07 09:30:02.054999 EST ┆ 92.0        ┆ 2427         │\n",
       "│ 2009-01-07 09:30:02.064999 EST ┆ 92.0        ┆ 5378         │\n",
       "│ 2009-01-07 09:30:02.105 EST    ┆ 92.0        ┆ 3541         │\n",
       "│ 2009-01-07 09:30:02.108999 EST ┆ 92.0        ┆ 11422        │\n",
       "│ …                              ┆ …           ┆ …            │\n",
       "│ 2009-01-07 16:00:01.065 EST    ┆ 90.641931   ┆ 12945        │\n",
       "│ 2009-01-07 16:00:01.087 EST    ┆ 90.62       ┆ 6078204      │\n",
       "│ 2009-01-07 16:00:01.098 EST    ┆ 90.62       ┆ 147663       │\n",
       "│ 2009-01-07 16:00:01.099 EST    ┆ 90.62       ┆ 41201        │\n",
       "│ 2009-01-07 16:00:01.100 EST    ┆ 90.62       ┆ 100          │\n",
       "└────────────────────────────────┴─────────────┴──────────────┘"
      ]
     },
     "execution_count": 33,
     "metadata": {},
     "output_type": "execute_result"
    }
   ],
   "source": [
    "load_TRTH_trade(\"/data/finance/TRTH/raw/equities/US/trade/SPY.P/2009-01-07-SPY.P-trade.parquet\")"
   ]
  },
  {
   "cell_type": "code",
   "execution_count": null,
   "metadata": {},
   "outputs": [],
   "source": []
  }
 ],
 "metadata": {
  "kernelspec": {
   "display_name": "tf2",
   "language": "python",
   "name": "python3"
  },
  "language_info": {
   "codemirror_mode": {
    "name": "ipython",
    "version": 3
   },
   "file_extension": ".py",
   "mimetype": "text/x-python",
   "name": "python",
   "nbconvert_exporter": "python",
   "pygments_lexer": "ipython3",
   "version": "3.10.9"
  }
 },
 "nbformat": 4,
 "nbformat_minor": 4
}
