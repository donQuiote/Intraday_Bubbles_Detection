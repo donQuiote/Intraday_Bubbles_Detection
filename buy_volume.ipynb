{
 "cells": [
  {
   "cell_type": "code",
   "id": "initial_id",
   "metadata": {
    "collapsed": true,
    "ExecuteTime": {
     "end_time": "2024-12-18T14:51:07.723239Z",
     "start_time": "2024-12-18T14:51:07.467724Z"
    }
   },
   "source": [
    "import numpy as np\n",
    "import polars as pl\n",
    "\n",
    "from Utils import plot_pdf_stats"
   ],
   "outputs": [],
   "execution_count": 1
  },
  {
   "metadata": {
    "ExecuteTime": {
     "end_time": "2024-12-18T14:53:31.385815Z",
     "start_time": "2024-12-18T14:53:31.375925Z"
    }
   },
   "cell_type": "code",
   "source": [
    "df = pl.read_csv(\"dataSPX.csv\")\n",
    "df = pl.read_csv(\"Archive/AFL_2010_05.csv\")\n",
    "df = pl.read_csv(\"Archive/BKR_2010_05.csv\")"
   ],
   "id": "3ef6ac58f4040d72",
   "outputs": [],
   "execution_count": 9
  },
  {
   "metadata": {
    "ExecuteTime": {
     "end_time": "2024-12-18T14:53:32.416786Z",
     "start_time": "2024-12-18T14:53:32.411730Z"
    }
   },
   "cell_type": "code",
   "source": [
    "df = df.with_columns(\n",
    "    pl.col(\"xltime\").str.strptime(pl.Datetime, \"%+\")\n",
    ")\n",
    "\n",
    "df = df.with_columns(\n",
    "    (pl.col(\"xltime\").dt.timestamp()/ 1e3).diff().alias(\"dt_ms\")\n",
    ")\n",
    "\n",
    "df"
   ],
   "id": "3859469a06f5088f",
   "outputs": [
    {
     "data": {
      "text/plain": [
       "shape: (2_567, 9)\n",
       "┌──────┬────────────┬────────────┬────────────┬───┬────────────┬───────────┬────────────┬──────────┐\n",
       "│      ┆ xltime     ┆ trade-pric ┆ trade-volu ┆ … ┆ bid-volume ┆ ask-price ┆ ask-volume ┆ dt_ms    │\n",
       "│ ---  ┆ ---        ┆ e          ┆ me         ┆   ┆ ---        ┆ ---       ┆ ---        ┆ ---      │\n",
       "│ i64  ┆ datetime[μ ┆ ---        ┆ ---        ┆   ┆ i64        ┆ f64       ┆ i64        ┆ f64      │\n",
       "│      ┆ s, UTC]    ┆ f64        ┆ i64        ┆   ┆            ┆           ┆            ┆          │\n",
       "╞══════╪════════════╪════════════╪════════════╪═══╪════════════╪═══════════╪════════════╪══════════╡\n",
       "│ 0    ┆ 2010-05-03 ┆ 35.51      ┆ 600        ┆ … ┆ 3          ┆ 35.8      ┆ 2          ┆ null     │\n",
       "│      ┆ 17:30:21.9 ┆            ┆            ┆   ┆            ┆           ┆            ┆          │\n",
       "│      ┆ 59 UTC     ┆            ┆            ┆   ┆            ┆           ┆            ┆          │\n",
       "│ 1    ┆ 2010-05-03 ┆ 35.51      ┆ 100        ┆ … ┆ 2          ┆ 35.52     ┆ 1          ┆ 40290.0  │\n",
       "│      ┆ 17:31:02.2 ┆            ┆            ┆   ┆            ┆           ┆            ┆          │\n",
       "│      ┆ 49 UTC     ┆            ┆            ┆   ┆            ┆           ┆            ┆          │\n",
       "│ 2    ┆ 2010-05-03 ┆ 35.51      ┆ 100        ┆ … ┆ 2          ┆ 35.7      ┆ 1          ┆ 13749.0  │\n",
       "│      ┆ 17:31:15.9 ┆            ┆            ┆   ┆            ┆           ┆            ┆          │\n",
       "│      ┆ 98 UTC     ┆            ┆            ┆   ┆            ┆           ┆            ┆          │\n",
       "│ 3    ┆ 2010-05-03 ┆ 35.51      ┆ 100        ┆ … ┆ 1          ┆ 35.61     ┆ 1          ┆ 170639.0 │\n",
       "│      ┆ 17:34:06.6 ┆            ┆            ┆   ┆            ┆           ┆            ┆          │\n",
       "│      ┆ 37 UTC     ┆            ┆            ┆   ┆            ┆           ┆            ┆          │\n",
       "│ 4    ┆ 2010-05-03 ┆ 35.55      ┆ 133        ┆ … ┆ 4          ┆ 35.56     ┆ 1          ┆ 159657.0 │\n",
       "│      ┆ 17:36:46.2 ┆            ┆            ┆   ┆            ┆           ┆            ┆          │\n",
       "│      ┆ 94 UTC     ┆            ┆            ┆   ┆            ┆           ┆            ┆          │\n",
       "│ …    ┆ …          ┆ …          ┆ …          ┆ … ┆ …          ┆ …         ┆ …          ┆ …        │\n",
       "│ 2562 ┆ 2010-05-28 ┆ 36.39      ┆ 100        ┆ … ┆ 3          ┆ 36.4      ┆ 1          ┆ 26323.0  │\n",
       "│      ┆ 23:57:49.6 ┆            ┆            ┆   ┆            ┆           ┆            ┆          │\n",
       "│      ┆ 80 UTC     ┆            ┆            ┆   ┆            ┆           ┆            ┆          │\n",
       "│ 2563 ┆ 2010-05-28 ┆ 36.31      ┆ 100        ┆ … ┆ 1          ┆ 36.39     ┆ 1          ┆ 18484.0  │\n",
       "│      ┆ 23:58:08.1 ┆            ┆            ┆   ┆            ┆           ┆            ┆          │\n",
       "│      ┆ 64 UTC     ┆            ┆            ┆   ┆            ┆           ┆            ┆          │\n",
       "│ 2564 ┆ 2010-05-28 ┆ 36.29      ┆ 100        ┆ … ┆ 21         ┆ 36.39     ┆ 4          ┆ 99.0     │\n",
       "│      ┆ 23:58:08.2 ┆            ┆            ┆   ┆            ┆           ┆            ┆          │\n",
       "│      ┆ 63 UTC     ┆            ┆            ┆   ┆            ┆           ┆            ┆          │\n",
       "│ 2565 ┆ 2010-05-28 ┆ 36.34      ┆ 200        ┆ … ┆ 1          ┆ 36.47     ┆ 4          ┆ 52417.0  │\n",
       "│      ┆ 23:59:00.6 ┆            ┆            ┆   ┆            ┆           ┆            ┆          │\n",
       "│      ┆ 80 UTC     ┆            ┆            ┆   ┆            ┆           ┆            ┆          │\n",
       "│ 2566 ┆ 2010-05-29 ┆ 36.26      ┆ 4600       ┆ … ┆ 2          ┆ 38.53     ┆ 3          ┆ 119011.0 │\n",
       "│      ┆ 00:00:59.6 ┆            ┆            ┆   ┆            ┆           ┆            ┆          │\n",
       "│      ┆ 91 UTC     ┆            ┆            ┆   ┆            ┆           ┆            ┆          │\n",
       "└──────┴────────────┴────────────┴────────────┴───┴────────────┴───────────┴────────────┴──────────┘"
      ],
      "text/html": [
       "<div><style>\n",
       ".dataframe > thead > tr,\n",
       ".dataframe > tbody > tr {\n",
       "  text-align: right;\n",
       "  white-space: pre-wrap;\n",
       "}\n",
       "</style>\n",
       "<small>shape: (2_567, 9)</small><table border=\"1\" class=\"dataframe\"><thead><tr><th></th><th>xltime</th><th>trade-price</th><th>trade-volume</th><th>bid-price</th><th>bid-volume</th><th>ask-price</th><th>ask-volume</th><th>dt_ms</th></tr><tr><td>i64</td><td>datetime[μs, UTC]</td><td>f64</td><td>i64</td><td>f64</td><td>i64</td><td>f64</td><td>i64</td><td>f64</td></tr></thead><tbody><tr><td>0</td><td>2010-05-03 17:30:21.959 UTC</td><td>35.51</td><td>600</td><td>35.51</td><td>3</td><td>35.8</td><td>2</td><td>null</td></tr><tr><td>1</td><td>2010-05-03 17:31:02.249 UTC</td><td>35.51</td><td>100</td><td>35.51</td><td>2</td><td>35.52</td><td>1</td><td>40290.0</td></tr><tr><td>2</td><td>2010-05-03 17:31:15.998 UTC</td><td>35.51</td><td>100</td><td>35.51</td><td>2</td><td>35.7</td><td>1</td><td>13749.0</td></tr><tr><td>3</td><td>2010-05-03 17:34:06.637 UTC</td><td>35.51</td><td>100</td><td>35.51</td><td>1</td><td>35.61</td><td>1</td><td>170639.0</td></tr><tr><td>4</td><td>2010-05-03 17:36:46.294 UTC</td><td>35.55</td><td>133</td><td>35.46</td><td>4</td><td>35.56</td><td>1</td><td>159657.0</td></tr><tr><td>&hellip;</td><td>&hellip;</td><td>&hellip;</td><td>&hellip;</td><td>&hellip;</td><td>&hellip;</td><td>&hellip;</td><td>&hellip;</td><td>&hellip;</td></tr><tr><td>2562</td><td>2010-05-28 23:57:49.680 UTC</td><td>36.39</td><td>100</td><td>36.28</td><td>3</td><td>36.4</td><td>1</td><td>26323.0</td></tr><tr><td>2563</td><td>2010-05-28 23:58:08.164 UTC</td><td>36.31</td><td>100</td><td>36.31</td><td>1</td><td>36.39</td><td>1</td><td>18484.0</td></tr><tr><td>2564</td><td>2010-05-28 23:58:08.263 UTC</td><td>36.29</td><td>100</td><td>36.27</td><td>21</td><td>36.39</td><td>4</td><td>99.0</td></tr><tr><td>2565</td><td>2010-05-28 23:59:00.680 UTC</td><td>36.34</td><td>200</td><td>36.3</td><td>1</td><td>36.47</td><td>4</td><td>52417.0</td></tr><tr><td>2566</td><td>2010-05-29 00:00:59.691 UTC</td><td>36.26</td><td>4600</td><td>33.11</td><td>2</td><td>38.53</td><td>3</td><td>119011.0</td></tr></tbody></table></div>"
      ]
     },
     "execution_count": 10,
     "metadata": {},
     "output_type": "execute_result"
    }
   ],
   "execution_count": 10
  },
  {
   "metadata": {
    "ExecuteTime": {
     "end_time": "2024-12-18T14:53:32.864403Z",
     "start_time": "2024-12-18T14:53:32.862343Z"
    }
   },
   "cell_type": "code",
   "source": [
    "def create_volume_TS(df):\n",
    "    vol_TS = df.select([\"dt_ms\",\"trade-price\",\"bid-price\",\"ask-price\", \"trade-volume\"])\n",
    "    \n",
    "    vol_TS = vol_TS.with_columns(\n",
    "        (pl.col(\"trade-volume\").diff()/pl.col(\"dt_ms\")).alias(\"vol_diff/dt_ms\"),\n",
    "        (pl.col(\"trade-price\").pct_change()*pl.col(\"dt_ms\").mean()/pl.col(\"dt_ms\").diff()).alias(\"returns/dt_ms*avg_dt\")\n",
    "    )\n",
    "    \n",
    "    return vol_TS    "
   ],
   "id": "8fc1d211044c6147",
   "outputs": [],
   "execution_count": 11
  },
  {
   "metadata": {
    "ExecuteTime": {
     "end_time": "2024-12-18T14:53:33.711749Z",
     "start_time": "2024-12-18T14:53:33.705708Z"
    }
   },
   "cell_type": "code",
   "source": [
    "volume_df = create_volume_TS(df).drop_nulls()\n",
    "volume_df.describe()"
   ],
   "id": "9f4eefe8daef29fe",
   "outputs": [
    {
     "data": {
      "text/plain": [
       "shape: (9, 8)\n",
       "┌────────────┬────────────┬────────────┬───────────┬───────────┬───────────┬───────────┬───────────┐\n",
       "│ statistic  ┆ dt_ms      ┆ trade-pric ┆ bid-price ┆ ask-price ┆ trade-vol ┆ vol_diff/ ┆ returns/d │\n",
       "│ ---        ┆ ---        ┆ e          ┆ ---       ┆ ---       ┆ ume       ┆ dt_ms     ┆ t_ms*avg_ │\n",
       "│ str        ┆ f64        ┆ ---        ┆ f64       ┆ f64       ┆ ---       ┆ ---       ┆ dt        │\n",
       "│            ┆            ┆ f64        ┆           ┆           ┆ f64       ┆ f64       ┆ ---       │\n",
       "│            ┆            ┆            ┆           ┆           ┆           ┆           ┆ f64       │\n",
       "╞════════════╪════════════╪════════════╪═══════════╪═══════════╪═══════════╪═══════════╪═══════════╡\n",
       "│ count      ┆ 2565.0     ┆ 2565.0     ┆ 2565.0    ┆ 2565.0    ┆ 2565.0    ┆ 2565.0    ┆ 2565.0    │\n",
       "│ null_count ┆ 0.0        ┆ 0.0        ┆ 0.0       ┆ 0.0       ┆ 0.0       ┆ 0.0       ┆ 0.0       │\n",
       "│ mean       ┆ 851227.072 ┆ 37.945889  ┆ 37.880599 ┆ 38.028066 ┆ 176.59766 ┆ 0.020368  ┆ inf       │\n",
       "│            ┆ 904        ┆            ┆           ┆           ┆ 1         ┆           ┆           │\n",
       "│ std        ┆ 9.4554e6   ┆ 1.645454   ┆ 1.661203  ┆ 1.743342  ┆ 346.46269 ┆ 7.823763  ┆ NaN       │\n",
       "│            ┆            ┆            ┆           ┆           ┆ 6         ┆           ┆           │\n",
       "│ min        ┆ 1.0        ┆ 35.15      ┆ 33.0      ┆ 35.35     ┆ 100.0     ┆ -125.0    ┆ -1688.315 │\n",
       "│            ┆            ┆            ┆           ┆           ┆           ┆           ┆ 558       │\n",
       "│ 25%        ┆ 4449.0     ┆ 36.58      ┆ 36.51     ┆ 36.64     ┆ 100.0     ┆ 0.0       ┆ -0.004938 │\n",
       "│ 50%        ┆ 47010.0    ┆ 37.5       ┆ 37.42     ┆ 37.59     ┆ 100.0     ┆ 0.0       ┆ 0.0       │\n",
       "│ 75%        ┆ 193987.0   ┆ 39.79      ┆ 39.75     ┆ 39.84     ┆ 200.0     ┆ 0.0       ┆ 0.004394  │\n",
       "│ max        ┆ 2.35917529 ┆ 41.33      ┆ 41.22     ┆ 58.4      ┆ 10200.0   ┆ 300.0     ┆ inf       │\n",
       "│            ┆ e8         ┆            ┆           ┆           ┆           ┆           ┆           │\n",
       "└────────────┴────────────┴────────────┴───────────┴───────────┴───────────┴───────────┴───────────┘"
      ],
      "text/html": [
       "<div><style>\n",
       ".dataframe > thead > tr,\n",
       ".dataframe > tbody > tr {\n",
       "  text-align: right;\n",
       "  white-space: pre-wrap;\n",
       "}\n",
       "</style>\n",
       "<small>shape: (9, 8)</small><table border=\"1\" class=\"dataframe\"><thead><tr><th>statistic</th><th>dt_ms</th><th>trade-price</th><th>bid-price</th><th>ask-price</th><th>trade-volume</th><th>vol_diff/dt_ms</th><th>returns/dt_ms*avg_dt</th></tr><tr><td>str</td><td>f64</td><td>f64</td><td>f64</td><td>f64</td><td>f64</td><td>f64</td><td>f64</td></tr></thead><tbody><tr><td>&quot;count&quot;</td><td>2565.0</td><td>2565.0</td><td>2565.0</td><td>2565.0</td><td>2565.0</td><td>2565.0</td><td>2565.0</td></tr><tr><td>&quot;null_count&quot;</td><td>0.0</td><td>0.0</td><td>0.0</td><td>0.0</td><td>0.0</td><td>0.0</td><td>0.0</td></tr><tr><td>&quot;mean&quot;</td><td>851227.072904</td><td>37.945889</td><td>37.880599</td><td>38.028066</td><td>176.597661</td><td>0.020368</td><td>inf</td></tr><tr><td>&quot;std&quot;</td><td>9.4554e6</td><td>1.645454</td><td>1.661203</td><td>1.743342</td><td>346.462696</td><td>7.823763</td><td>NaN</td></tr><tr><td>&quot;min&quot;</td><td>1.0</td><td>35.15</td><td>33.0</td><td>35.35</td><td>100.0</td><td>-125.0</td><td>-1688.315558</td></tr><tr><td>&quot;25%&quot;</td><td>4449.0</td><td>36.58</td><td>36.51</td><td>36.64</td><td>100.0</td><td>0.0</td><td>-0.004938</td></tr><tr><td>&quot;50%&quot;</td><td>47010.0</td><td>37.5</td><td>37.42</td><td>37.59</td><td>100.0</td><td>0.0</td><td>0.0</td></tr><tr><td>&quot;75%&quot;</td><td>193987.0</td><td>39.79</td><td>39.75</td><td>39.84</td><td>200.0</td><td>0.0</td><td>0.004394</td></tr><tr><td>&quot;max&quot;</td><td>2.35917529e8</td><td>41.33</td><td>41.22</td><td>58.4</td><td>10200.0</td><td>300.0</td><td>inf</td></tr></tbody></table></div>"
      ]
     },
     "execution_count": 12,
     "metadata": {},
     "output_type": "execute_result"
    }
   ],
   "execution_count": 12
  },
  {
   "metadata": {
    "ExecuteTime": {
     "end_time": "2024-12-18T14:53:34.938913Z",
     "start_time": "2024-12-18T14:53:34.340951Z"
    }
   },
   "cell_type": "code",
   "source": "plot_pdf_stats(df=volume_df, x_col_name=\"vol_diff/dt_ms\")",
   "id": "733400f32da9ad93",
   "outputs": [
    {
     "name": "stdout",
     "output_type": "stream",
     "text": [
      "Mean: 0.02036795778038185\n",
      "Median: 0.0\n",
      "Standard Deviation: 7.823763220821891\n"
     ]
    },
    {
     "data": {
      "text/plain": [
       "<Figure size 800x600 with 1 Axes>"
      ],
      "image/png": "[encoded data removed]"
     },
     "metadata": {},
     "output_type": "display_data"
    }
   ],
   "execution_count": 13
  },
  {
   "metadata": {},
   "cell_type": "markdown",
   "source": [
    "We will assume that each stock has a volume std that is computed using past inputs \n",
    "\\\n",
    "For now I will use the vol_std of the day in the current day -> not right\n",
    "\\\n",
    "Same is done with the mean"
   ],
   "id": "12c90d8f5af82cf8"
  },
  {
   "metadata": {
    "ExecuteTime": {
     "end_time": "2024-12-18T14:53:35.846944Z",
     "start_time": "2024-12-18T14:53:35.771740Z"
    }
   },
   "cell_type": "code",
   "source": [
    "from Strategies import short_excess_vol_strategy, momentum_excess_vol_strategy\n",
    "\n",
    "def trade_vol_std(df, thresh, stock_vol_mean, stock_vol_std):\n",
    "    df = df.with_columns(\n",
    "        (pl.when(pl.col(\"vol_diff/dt_ms\")>stock_vol_mean+thresh*stock_vol_std).then(1).otherwise(pl.when(pl.col(\"vol_diff/dt_ms\")<stock_vol_mean-thresh*stock_vol_std).then(-1).otherwise(0))).alias(\"trading_scheme_enter\").shift(),\n",
    "        pl.col(\"returns/dt_ms*avg_dt\").shift()\n",
    "    )\n",
    "    \n",
    "    df = df.with_columns(\n",
    "        (pl.when(pl.col(\"vol_diff/dt_ms\")<stock_vol_mean).then(1).otherwise(pl.when(pl.col(\"vol_diff/dt_ms\")>stock_vol_mean).then(-1).otherwise(0))).alias(\"trading_scheme_leave\").shift()\n",
    "    )\n",
    "    \n",
    "    \n",
    "    df = df.drop_nulls()\n",
    "    \n",
    "    #df, value = short_excess_vol_strategy(df)\n",
    "    df, value = momentum_excess_vol_strategy(df, plot_graph=False)\n",
    "\n",
    "    \n",
    "    return df, value\n",
    "mean = volume_df.select([\"vol_diff/dt_ms\"]).mean().item()\n",
    "std = volume_df.select([\"vol_diff/dt_ms\"]).std().item()\n",
    "for i in range(15):\n",
    "    print(f\"threshold is {i}\")\n",
    "    da, value = trade_vol_std(df=volume_df, thresh=i, stock_vol_mean=mean, stock_vol_std=std)\n",
    "    print(value)"
   ],
   "id": "849b394b007b595e",
   "outputs": [
    {
     "name": "stdout",
     "output_type": "stream",
     "text": [
      "threshold is 0\n",
      "Number of times in position: 167\n",
      "[-374.7752381]\n",
      "threshold is 1\n",
      "Number of times in position: 22\n",
      "[231.293]\n",
      "threshold is 2\n",
      "Number of times in position: 12\n",
      "[304.57333333]\n",
      "threshold is 3\n",
      "Number of times in position: 9\n",
      "[225.88666667]\n",
      "threshold is 4\n",
      "Number of times in position: 5\n",
      "[-41.02366667]\n",
      "threshold is 5\n",
      "Number of times in position: 4\n",
      "[-3.09366667]\n",
      "threshold is 6\n",
      "Number of times in position: 4\n",
      "[-3.09366667]\n",
      "threshold is 7\n",
      "Number of times in position: 3\n",
      "[-76.507]\n",
      "threshold is 8\n",
      "Number of times in position: 3\n",
      "[-76.507]\n",
      "threshold is 9\n",
      "Number of times in position: 3\n",
      "[-76.507]\n",
      "threshold is 10\n",
      "Number of times in position: 3\n",
      "[-76.507]\n",
      "threshold is 11\n",
      "Number of times in position: 3\n",
      "[-76.507]\n",
      "threshold is 12\n",
      "Number of times in position: 2\n",
      "[-36.335]\n",
      "threshold is 13\n",
      "Number of times in position: 1\n",
      "[0.255]\n",
      "threshold is 14\n",
      "Number of times in position: 1\n",
      "[0.255]\n"
     ]
    }
   ],
   "execution_count": 14
  },
  {
   "metadata": {
    "ExecuteTime": {
     "end_time": "2024-12-18T14:05:23.413420Z",
     "start_time": "2024-12-18T14:05:23.412071Z"
    }
   },
   "cell_type": "code",
   "source": "",
   "id": "ebd5d7621e46bb99",
   "outputs": [],
   "execution_count": null
  },
  {
   "metadata": {
    "ExecuteTime": {
     "end_time": "2024-12-18T14:05:23.422716Z",
     "start_time": "2024-12-18T14:05:23.421453Z"
    }
   },
   "cell_type": "code",
   "source": "",
   "id": "2e6af44f48f64d30",
   "outputs": [],
   "execution_count": null
  },
  {
   "metadata": {},
   "cell_type": "code",
   "outputs": [],
   "execution_count": null,
   "source": "",
   "id": "1d6a9e3d80625857"
  }
 ],
 "metadata": {
  "kernelspec": {
   "display_name": "Python 3",
   "language": "python",
   "name": "python3"
  },
  "language_info": {
   "codemirror_mode": {
    "name": "ipython",
    "version": 2
   },
   "file_extension": ".py",
   "mimetype": "text/x-python",
   "name": "python",
   "nbconvert_exporter": "python",
   "pygments_lexer": "ipython2",
   "version": "2.7.6"
  }
 },
 "nbformat": 4,
 "nbformat_minor": 5
}
