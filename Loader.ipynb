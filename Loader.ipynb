{
 "cells": [
  {
   "cell_type": "code",
   "id": "initial_id",
   "metadata": {
    "collapsed": true,
    "ExecuteTime": {
     "end_time": "2024-12-18T16:38:58.542600Z",
     "start_time": "2024-12-18T16:38:58.499101Z"
    }
   },
   "source": "import polars as pl",
   "outputs": [],
   "execution_count": 2
  },
  {
   "metadata": {},
   "cell_type": "markdown",
   "source": [
    "Data/data 2/extraction/TRTH/raw/equities/US/bbo/AAP/2010-05-03-AAP-bbo\n",
    ".parquet\\\n",
    "Data/data/extraction/TRTH/raw/equities/US/trade/AAP/2010-05-03-AAP-trade.parquet"
   ],
   "id": "cda3e94a477ce7a9"
  },
  {
   "metadata": {
    "ExecuteTime": {
     "end_time": "2024-12-18T16:43:10.030667Z",
     "start_time": "2024-12-18T16:43:10.026493Z"
    }
   },
   "cell_type": "code",
   "source": [
    "def load_TRTH_trade(filename,\n",
    "            tz_exchange=\"America/New_York\",\n",
    "            only_non_special_trades=True,\n",
    "            only_regular_trading_hours=True,\n",
    "            merge_sub_trades=True):\n",
    "    try:\n",
    "        if filename.endswith(\"csv\") or filename.endswith(\"csv.gz\"):\n",
    "            DF=pl.read_csv(filename)\n",
    "        elif filename.endswith(\"parquet\"):    \n",
    "            DF=pl.read_parquet(filename)\n",
    "        else:\n",
    "            print(\"cannot load file \"+filename+\" : unknown format\")\n",
    "            return None\n",
    "    except:\n",
    "        print(filename+\" cannot be loaded\")\n",
    "        return None\n",
    "\n",
    "    excel_base_date = pl.datetime(1899, 12, 30)  # Excel starts counting from 1900-01-01, but Polars needs 1899-12-30\n",
    "    DF = DF.with_columns(\n",
    "        (pl.col(\"xltime\") * pl.duration(days=1) + excel_base_date).alias(\"index\")\n",
    "    )\n",
    "    DF = DF.with_columns(pl.col(\"index\").dt.convert_time_zone(tz_exchange))\n",
    "    DF.drop([\"xltime\",\"trade-rawflag\",\"trade-stringflag\"])\n",
    "\n",
    "    if only_non_special_trades:\n",
    "        DF=DF.filter(pl.col(\"trade-stringflag\")==\"uncategorized\")\n",
    "\n",
    "    if merge_sub_trades:   # average volume-weighted trade price here\n",
    "        DF=DF.group_by('index',maintain_order=True).agg([(pl.col('trade-price')*pl.col('trade-volume')).sum()/(pl.col('trade-volume').sum()).alias('trade-price'),pl.sum('trade-volume')])        \n",
    "    \n",
    "    return DF\n"
   ],
   "id": "5bd37e01b2712934",
   "outputs": [],
   "execution_count": 8
  },
  {
   "metadata": {
    "ExecuteTime": {
     "end_time": "2024-12-18T16:43:10.481817Z",
     "start_time": "2024-12-18T16:43:10.477735Z"
    }
   },
   "cell_type": "code",
   "source": [
    "def load_TRTH_bbo(filename,\n",
    "            tz_exchange=\"America/New_York\",\n",
    "            only_regular_trading_hours=True,\n",
    "            hhmmss_open=\"09:30:00\",\n",
    "            hhmmss_close=\"16:00:00\",\n",
    "            merge_same_index=True):\n",
    "    try:\n",
    "        if filename.endswith(\"csv\") or filename.endswith(\"csv.gz\"):\n",
    "            DF=pl.read_csv(filename)\n",
    "        elif filename.endswith(\"parquet\"):    \n",
    "            DF=pl.read_parquet(filename)\n",
    "        else:\n",
    "            print(\"cannot load file \"+filename+\" : unknown format\")\n",
    "            return None\n",
    "    except:\n",
    "        print(filename+\" cannot be loaded\")\n",
    "        return None\n",
    "\n",
    "    excel_base_date = pl.datetime(1899, 12, 30)  # Excel starts counting from 1900-01-01, but Polars needs 1899-12-30\n",
    "    DF = DF.with_columns(\n",
    "        (pl.col(\"xltime\") * pl.duration(days=1) + excel_base_date).alias(\"index\")\n",
    "    )\n",
    "    DF = DF.with_columns(pl.col(\"index\").dt.convert_time_zone(tz_exchange))\n",
    "    DF.drop(\"xltime\")\n",
    "\n",
    "    # apply common sense filter\n",
    "    DF = DF.filter(pl.col(\"ask-price\")>0).filter(pl.col(\"bid-price\")>0).filter(pl.col(\"ask-price\")>pl.col(\"bid-price\"))\n",
    "\n",
    "    if merge_same_index:\n",
    "        DF = DF.group_by('index',maintain_order=True).last()   # last quote of the same timestamp\n",
    "    \n",
    "    if only_regular_trading_hours:\n",
    "        hh_open,mm_open,ss_open = [float(x) for x in hhmmss_open.split(\":\")]\n",
    "        hh_close,mm_close,ss_close = [float(x) for x in hhmmss_close.split(\":\")]\n",
    "\n",
    "        seconds_open=hh_open*3600+mm_open*60+ss_open\n",
    "        seconds_close=hh_close*3600+mm_close*60+ss_close\n",
    "\n",
    "        DF = DF.filter(pl.col('index').dt.hour().cast(float)*3600+pl.col('index').dt.minute().cast(float)*60+pl.col('index').dt.second()>=seconds_open,\n",
    "                       pl.col('index').dt.hour().cast(float)*3600+pl.col('index').dt.minute().cast(float)*60+pl.col('index').dt.second()<=seconds_close)\n",
    "    \n",
    "    return DF"
   ],
   "id": "90fd55e783a23359",
   "outputs": [],
   "execution_count": 9
  },
  {
   "metadata": {
    "ExecuteTime": {
     "end_time": "2024-12-18T16:47:21.591688Z",
     "start_time": "2024-12-18T16:47:21.585871Z"
    }
   },
   "cell_type": "code",
   "source": [
    "def wrangle_trade(DF,\n",
    "            tz_exchange=\"America/New_York\",\n",
    "            only_non_special_trades=True,\n",
    "            only_regular_trading_hours=True,\n",
    "            merge_sub_trades=True):\n",
    "    excel_base_date = pl.datetime(1899, 12, 30)  # Excel starts counting from 1900-01-01, but Polars needs 1899-12-30\n",
    "    DF = DF.with_columns(\n",
    "        (pl.col(\"xltime\") * pl.duration(days=1) + excel_base_date).alias(\"index\")\n",
    "    )\n",
    "    DF = DF.with_columns(pl.col(\"index\").dt.convert_time_zone(tz_exchange))\n",
    "\n",
    "    if only_non_special_trades:\n",
    "        DF=DF.filter(pl.col(\"trade-stringflag\")==\"uncategorized\")\n",
    "\n",
    "    DF = DF.drop([\"xltime\",\"trade-rawflag\",\"trade-stringflag\"])\n",
    "\n",
    "\n",
    "    if merge_sub_trades:   # average volume-weighted trade price here\n",
    "        DF=DF.group_by('index',maintain_order=True).agg([(pl.col('trade-price')*pl.col('trade-volume')).sum()/(pl.col('trade-volume').sum()).alias('trade-price'),pl.sum('trade-volume')])        \n",
    "    \n",
    "    return DF\n",
    "\n",
    "\n",
    "\n",
    "\n",
    "def load_TRTH_trade_file(filename,\n",
    "            tz_exchange=\"America/New_York\",\n",
    "            only_non_special_trades=True,\n",
    "            only_regular_trading_hours=True,\n",
    "            merge_sub_trades=True):\n",
    "    try:\n",
    "        if filename.endswith(\"csv\") or filename.endswith(\"csv.gz\"):\n",
    "            DF=pl.read_csv(filename)\n",
    "        elif filename.endswith(\"parquet\"):    \n",
    "            DF=pl.read_parquet(filename)\n",
    "        else:\n",
    "            print(\"cannot load file \"+filename+\" : unknown format\")\n",
    "            return None\n",
    "    except:\n",
    "        print(filename+\" cannot be loaded\")\n",
    "        return None\n",
    "    \n",
    "    DF = wrangle_trade(DF,\n",
    "            tz_exchange=tz_exchange,\n",
    "            only_non_special_trades=only_non_special_trades,\n",
    "            only_regular_trading_hours=only_regular_trading_hours,\n",
    "            merge_sub_trades=merge_sub_trades)\n",
    "\n",
    "    return DF"
   ],
   "id": "63edd7db1c1a5c00",
   "outputs": [],
   "execution_count": 14
  },
  {
   "metadata": {
    "ExecuteTime": {
     "end_time": "2024-12-18T16:48:27.908961Z",
     "start_time": "2024-12-18T16:48:27.902692Z"
    }
   },
   "cell_type": "code",
   "source": [
    "def wrangle_bbo(DF,\n",
    "            tz_exchange=\"America/New_York\",\n",
    "            only_regular_trading_hours=True,\n",
    "            hhmmss_open=\"09:30:00\",\n",
    "            hhmmss_close=\"16:00:00\",\n",
    "            merge_same_index=True):\n",
    "\n",
    "    excel_base_date = pl.datetime(1899, 12, 30)  # Excel starts counting from 1900-01-01, but Polars needs 1899-12-30\n",
    "    DF = DF.with_columns(\n",
    "        (pl.col(\"xltime\") * pl.duration(days=1) + excel_base_date).alias(\"index\")\n",
    "    )\n",
    "    DF = DF.with_columns(pl.col(\"index\").dt.convert_time_zone(tz_exchange))\n",
    "    DF = DF.drop(\"xltime\")\n",
    "\n",
    "    # apply common sense filter\n",
    "    DF = DF.filter(pl.col(\"ask-price\")>0).filter(pl.col(\"bid-price\")>0).filter(pl.col(\"ask-price\")>pl.col(\"bid-price\"))\n",
    "\n",
    "    if merge_same_index:\n",
    "        DF = DF.group_by('index',maintain_order=True).last()   # last quote of the same timestamp\n",
    "    \n",
    "    if only_regular_trading_hours:\n",
    "        hh_open,mm_open,ss_open = [int(x) for x in hhmmss_open.split(\":\")]\n",
    "        hh_close,mm_close,ss_close = [int(x) for x in hhmmss_close.split(\":\")]\n",
    "\n",
    "        seconds_open=hh_open*3600+mm_open*60+ss_open\n",
    "        seconds_close=hh_close*3600+mm_close*60+ss_close\n",
    "\n",
    "        DF = DF.filter(pl.col('index').dt.hour().cast(pl.Int32)*3600+pl.col('index').dt.minute().cast(pl.Int32)*60+pl.col('index').dt.second().cast(pl.Int32)>=seconds_open,\n",
    "                       pl.col('index').dt.hour().cast(pl.Int32)*3600+pl.col('index').dt.minute().cast(pl.Int32)*60+pl.col('index').dt.second().cast(pl.Int32)<=seconds_close)\n",
    "    return DF\n",
    "\n",
    "def load_TRTH_bbo_file(filename,\n",
    "            tz_exchange=\"America/New_York\",\n",
    "            only_regular_trading_hours=True,\n",
    "            hhmmss_open=\"09:30:00\",\n",
    "            hhmmss_close=\"16:00:00\",\n",
    "            merge_same_index=True):\n",
    "    try:\n",
    "        if filename.endswith(\"csv\") or filename.endswith(\"csv.gz\"):\n",
    "            DF=pl.read_csv(filename)\n",
    "        elif filename.endswith(\"parquet\"):    \n",
    "            DF=pl.read_parquet(filename)\n",
    "        else:\n",
    "            print(\"cannot load file \"+filename+\" : unknown format\")\n",
    "            return None\n",
    "    except:\n",
    "        print(filename+\" cannot be loaded\")\n",
    "        return None\n",
    "\n",
    "    DF = wrangle_bbo(DF,\n",
    "            tz_exchange=tz_exchange,\n",
    "            only_regular_trading_hours=only_regular_trading_hours,\n",
    "            hhmmss_open=hhmmss_open,\n",
    "            hhmmss_close=hhmmss_close,\n",
    "            merge_same_index=merge_same_index)\n",
    "\n",
    "    \n",
    "    return DF"
   ],
   "id": "3ff2a134d0553e4b",
   "outputs": [],
   "execution_count": 19
  },
  {
   "metadata": {
    "ExecuteTime": {
     "end_time": "2024-12-18T16:48:28.589292Z",
     "start_time": "2024-12-18T16:48:28.577765Z"
    }
   },
   "cell_type": "code",
   "source": [
    "trade_df = load_TRTH_trade_file(\"Data/data/extraction/TRTH/raw/equities/US/trade/AAP/2010-05-03-AAP-trade.parquet\")\n",
    "bbo_df = load_TRTH_bbo_file(\"Data/data 2/extraction/TRTH/raw/equities/US/bbo/AAP/2010-05-03-AAP-bbo.parquet\")"
   ],
   "id": "142ae42dc9c33853",
   "outputs": [],
   "execution_count": 20
  },
  {
   "metadata": {
    "ExecuteTime": {
     "end_time": "2024-12-18T16:48:30.172249Z",
     "start_time": "2024-12-18T16:48:30.168486Z"
    }
   },
   "cell_type": "code",
   "source": "trade_df",
   "id": "ea622d0479212f1a",
   "outputs": [
    {
     "data": {
      "text/plain": [
       "shape: (4_184, 3)\n",
       "┌────────────────────────────────┬─────────────┬──────────────┐\n",
       "│ index                          ┆ trade-price ┆ trade-volume │\n",
       "│ ---                            ┆ ---         ┆ ---          │\n",
       "│ datetime[μs, America/New_York] ┆ f64         ┆ i32          │\n",
       "╞════════════════════════════════╪═════════════╪══════════════╡\n",
       "│ 2010-05-03 09:30:00.638 EDT    ┆ 45.13       ┆ 200          │\n",
       "│ 2010-05-03 09:30:03.871 EDT    ┆ 45.21       ┆ 100          │\n",
       "│ 2010-05-03 09:30:06.277 EDT    ┆ 45.2        ┆ 100          │\n",
       "│ 2010-05-03 09:30:06.289 EDT    ┆ 45.316      ┆ 500          │\n",
       "│ 2010-05-03 09:30:10.254 EDT    ┆ 45.21       ┆ 100          │\n",
       "│ …                              ┆ …           ┆ …            │\n",
       "│ 2010-05-03 15:59:53.012999 EDT ┆ 46.29       ┆ 600          │\n",
       "│ 2010-05-03 15:59:54.416 EDT    ┆ 46.28       ┆ 100          │\n",
       "│ 2010-05-03 15:59:57.126 EDT    ┆ 46.3        ┆ 200          │\n",
       "│ 2010-05-03 15:59:57.520 EDT    ┆ 46.28       ┆ 100          │\n",
       "│ 2010-05-03 15:59:59.204 EDT    ┆ 46.28       ┆ 900          │\n",
       "└────────────────────────────────┴─────────────┴──────────────┘"
      ],
      "text/html": [
       "<div><style>\n",
       ".dataframe > thead > tr,\n",
       ".dataframe > tbody > tr {\n",
       "  text-align: right;\n",
       "  white-space: pre-wrap;\n",
       "}\n",
       "</style>\n",
       "<small>shape: (4_184, 3)</small><table border=\"1\" class=\"dataframe\"><thead><tr><th>index</th><th>trade-price</th><th>trade-volume</th></tr><tr><td>datetime[μs, America/New_York]</td><td>f64</td><td>i32</td></tr></thead><tbody><tr><td>2010-05-03 09:30:00.638 EDT</td><td>45.13</td><td>200</td></tr><tr><td>2010-05-03 09:30:03.871 EDT</td><td>45.21</td><td>100</td></tr><tr><td>2010-05-03 09:30:06.277 EDT</td><td>45.2</td><td>100</td></tr><tr><td>2010-05-03 09:30:06.289 EDT</td><td>45.316</td><td>500</td></tr><tr><td>2010-05-03 09:30:10.254 EDT</td><td>45.21</td><td>100</td></tr><tr><td>&hellip;</td><td>&hellip;</td><td>&hellip;</td></tr><tr><td>2010-05-03 15:59:53.012999 EDT</td><td>46.29</td><td>600</td></tr><tr><td>2010-05-03 15:59:54.416 EDT</td><td>46.28</td><td>100</td></tr><tr><td>2010-05-03 15:59:57.126 EDT</td><td>46.3</td><td>200</td></tr><tr><td>2010-05-03 15:59:57.520 EDT</td><td>46.28</td><td>100</td></tr><tr><td>2010-05-03 15:59:59.204 EDT</td><td>46.28</td><td>900</td></tr></tbody></table></div>"
      ]
     },
     "execution_count": 21,
     "metadata": {},
     "output_type": "execute_result"
    }
   ],
   "execution_count": 21
  },
  {
   "metadata": {
    "ExecuteTime": {
     "end_time": "2024-12-18T16:48:41.529372Z",
     "start_time": "2024-12-18T16:48:41.526932Z"
    }
   },
   "cell_type": "code",
   "source": "bbo_df",
   "id": "542718c67824e8b5",
   "outputs": [
    {
     "data": {
      "text/plain": [
       "shape: (13_786, 5)\n",
       "┌────────────────────────────────┬───────────┬────────────┬───────────┬────────────┐\n",
       "│ index                          ┆ bid-price ┆ bid-volume ┆ ask-price ┆ ask-volume │\n",
       "│ ---                            ┆ ---       ┆ ---        ┆ ---       ┆ ---        │\n",
       "│ datetime[μs, America/New_York] ┆ f64       ┆ i32        ┆ f64       ┆ i32        │\n",
       "╞════════════════════════════════╪═══════════╪════════════╪═══════════╪════════════╡\n",
       "│ 2010-05-03 09:30:00.623 EDT    ┆ 45.06     ┆ 1          ┆ 45.53     ┆ 1          │\n",
       "│ 2010-05-03 09:30:00.645 EDT    ┆ 44.99     ┆ 1          ┆ 45.53     ┆ 1          │\n",
       "│ 2010-05-03 09:30:01.105 EDT    ┆ 45.17     ┆ 5          ┆ 45.39     ┆ 13         │\n",
       "│ 2010-05-03 09:30:01.421 EDT    ┆ 45.18     ┆ 2          ┆ 45.39     ┆ 13         │\n",
       "│ 2010-05-03 09:30:01.663 EDT    ┆ 45.18     ┆ 2          ┆ 45.38     ┆ 2          │\n",
       "│ …                              ┆ …         ┆ …          ┆ …         ┆ …          │\n",
       "│ 2010-05-03 15:59:59.204 EDT    ┆ 46.28     ┆ 275        ┆ 46.29     ┆ 2          │\n",
       "│ 2010-05-03 15:59:59.253 EDT    ┆ 46.28     ┆ 275        ┆ 46.29     ┆ 1          │\n",
       "│ 2010-05-03 15:59:59.607 EDT    ┆ 46.28     ┆ 275        ┆ 46.29     ┆ 4          │\n",
       "│ 2010-05-03 15:59:59.800 EDT    ┆ 46.28     ┆ 276        ┆ 46.29     ┆ 4          │\n",
       "│ 2010-05-03 15:59:59.848 EDT    ┆ 46.28     ┆ 276        ┆ 46.29     ┆ 8          │\n",
       "└────────────────────────────────┴───────────┴────────────┴───────────┴────────────┘"
      ],
      "text/html": [
       "<div><style>\n",
       ".dataframe > thead > tr,\n",
       ".dataframe > tbody > tr {\n",
       "  text-align: right;\n",
       "  white-space: pre-wrap;\n",
       "}\n",
       "</style>\n",
       "<small>shape: (13_786, 5)</small><table border=\"1\" class=\"dataframe\"><thead><tr><th>index</th><th>bid-price</th><th>bid-volume</th><th>ask-price</th><th>ask-volume</th></tr><tr><td>datetime[μs, America/New_York]</td><td>f64</td><td>i32</td><td>f64</td><td>i32</td></tr></thead><tbody><tr><td>2010-05-03 09:30:00.623 EDT</td><td>45.06</td><td>1</td><td>45.53</td><td>1</td></tr><tr><td>2010-05-03 09:30:00.645 EDT</td><td>44.99</td><td>1</td><td>45.53</td><td>1</td></tr><tr><td>2010-05-03 09:30:01.105 EDT</td><td>45.17</td><td>5</td><td>45.39</td><td>13</td></tr><tr><td>2010-05-03 09:30:01.421 EDT</td><td>45.18</td><td>2</td><td>45.39</td><td>13</td></tr><tr><td>2010-05-03 09:30:01.663 EDT</td><td>45.18</td><td>2</td><td>45.38</td><td>2</td></tr><tr><td>&hellip;</td><td>&hellip;</td><td>&hellip;</td><td>&hellip;</td><td>&hellip;</td></tr><tr><td>2010-05-03 15:59:59.204 EDT</td><td>46.28</td><td>275</td><td>46.29</td><td>2</td></tr><tr><td>2010-05-03 15:59:59.253 EDT</td><td>46.28</td><td>275</td><td>46.29</td><td>1</td></tr><tr><td>2010-05-03 15:59:59.607 EDT</td><td>46.28</td><td>275</td><td>46.29</td><td>4</td></tr><tr><td>2010-05-03 15:59:59.800 EDT</td><td>46.28</td><td>276</td><td>46.29</td><td>4</td></tr><tr><td>2010-05-03 15:59:59.848 EDT</td><td>46.28</td><td>276</td><td>46.29</td><td>8</td></tr></tbody></table></div>"
      ]
     },
     "execution_count": 22,
     "metadata": {},
     "output_type": "execute_result"
    }
   ],
   "execution_count": 22
  },
  {
   "metadata": {
    "ExecuteTime": {
     "end_time": "2024-12-18T16:51:24.867886Z",
     "start_time": "2024-12-18T16:51:24.846729Z"
    }
   },
   "cell_type": "code",
   "source": [
    "events = bbo_df.join(trade_df,on='index',how=\"full\",coalesce=True).sort('index')\n",
    "\n",
    "events = events.with_columns(pl.col('index').dt.date().alias('date'))\n",
    "events = events.with_columns([pl.col('bid-price').forward_fill().over('date'),\n",
    "                              pl.col('bid-volume').forward_fill().over('date'),\n",
    "                              pl.col('ask-price').forward_fill().over('date'),\n",
    "                              pl.col('ask-volume').forward_fill().over('date')])\n",
    "events = events.drop_nulls()   \n",
    "events"
   ],
   "id": "8ba3e7f6ffb8c631",
   "outputs": [
    {
     "data": {
      "text/plain": [
       "shape: (4_184, 8)\n",
       "┌────────────┬───────────┬────────────┬───────────┬────────────┬───────────┬───────────┬───────────┐\n",
       "│ index      ┆ bid-price ┆ bid-volume ┆ ask-price ┆ ask-volume ┆ trade-pri ┆ trade-vol ┆ date      │\n",
       "│ ---        ┆ ---       ┆ ---        ┆ ---       ┆ ---        ┆ ce        ┆ ume       ┆ ---       │\n",
       "│ datetime[μ ┆ f64       ┆ i32        ┆ f64       ┆ i32        ┆ ---       ┆ ---       ┆ date      │\n",
       "│ s, America ┆           ┆            ┆           ┆            ┆ f64       ┆ i32       ┆           │\n",
       "│ /New_York] ┆           ┆            ┆           ┆            ┆           ┆           ┆           │\n",
       "╞════════════╪═══════════╪════════════╪═══════════╪════════════╪═══════════╪═══════════╪═══════════╡\n",
       "│ 2010-05-03 ┆ 45.06     ┆ 1          ┆ 45.53     ┆ 1          ┆ 45.13     ┆ 200       ┆ 2010-05-0 │\n",
       "│ 09:30:00.6 ┆           ┆            ┆           ┆            ┆           ┆           ┆ 3         │\n",
       "│ 38 EDT     ┆           ┆            ┆           ┆            ┆           ┆           ┆           │\n",
       "│ 2010-05-03 ┆ 45.21     ┆ 1          ┆ 45.37     ┆ 4          ┆ 45.21     ┆ 100       ┆ 2010-05-0 │\n",
       "│ 09:30:03.8 ┆           ┆            ┆           ┆            ┆           ┆           ┆ 3         │\n",
       "│ 71 EDT     ┆           ┆            ┆           ┆            ┆           ┆           ┆           │\n",
       "│ 2010-05-03 ┆ 45.19     ┆ 4          ┆ 45.36     ┆ 2          ┆ 45.2      ┆ 100       ┆ 2010-05-0 │\n",
       "│ 09:30:06.2 ┆           ┆            ┆           ┆            ┆           ┆           ┆ 3         │\n",
       "│ 77 EDT     ┆           ┆            ┆           ┆            ┆           ┆           ┆           │\n",
       "│ 2010-05-03 ┆ 45.19     ┆ 6          ┆ 45.36     ┆ 2          ┆ 45.316    ┆ 500       ┆ 2010-05-0 │\n",
       "│ 09:30:06.2 ┆           ┆            ┆           ┆            ┆           ┆           ┆ 3         │\n",
       "│ 89 EDT     ┆           ┆            ┆           ┆            ┆           ┆           ┆           │\n",
       "│ 2010-05-03 ┆ 45.21     ┆ 1          ┆ 45.34     ┆ 2          ┆ 45.21     ┆ 100       ┆ 2010-05-0 │\n",
       "│ 09:30:10.2 ┆           ┆            ┆           ┆            ┆           ┆           ┆ 3         │\n",
       "│ 54 EDT     ┆           ┆            ┆           ┆            ┆           ┆           ┆           │\n",
       "│ …          ┆ …         ┆ …          ┆ …         ┆ …          ┆ …         ┆ …         ┆ …         │\n",
       "│ 2010-05-03 ┆ 46.28     ┆ 249        ┆ 46.3      ┆ 4          ┆ 46.29     ┆ 600       ┆ 2010-05-0 │\n",
       "│ 15:59:53.0 ┆           ┆            ┆           ┆            ┆           ┆           ┆ 3         │\n",
       "│ 12999 EDT  ┆           ┆            ┆           ┆            ┆           ┆           ┆           │\n",
       "│ 2010-05-03 ┆ 46.28     ┆ 249        ┆ 46.3      ┆ 4          ┆ 46.28     ┆ 100       ┆ 2010-05-0 │\n",
       "│ 15:59:54.4 ┆           ┆            ┆           ┆            ┆           ┆           ┆ 3         │\n",
       "│ 16 EDT     ┆           ┆            ┆           ┆            ┆           ┆           ┆           │\n",
       "│ 2010-05-03 ┆ 46.28     ┆ 247        ┆ 46.3      ┆ 7          ┆ 46.3      ┆ 200       ┆ 2010-05-0 │\n",
       "│ 15:59:57.1 ┆           ┆            ┆           ┆            ┆           ┆           ┆ 3         │\n",
       "│ 26 EDT     ┆           ┆            ┆           ┆            ┆           ┆           ┆           │\n",
       "│ 2010-05-03 ┆ 46.28     ┆ 247        ┆ 46.3      ┆ 7          ┆ 46.28     ┆ 100       ┆ 2010-05-0 │\n",
       "│ 15:59:57.5 ┆           ┆            ┆           ┆            ┆           ┆           ┆ 3         │\n",
       "│ 20 EDT     ┆           ┆            ┆           ┆            ┆           ┆           ┆           │\n",
       "│ 2010-05-03 ┆ 46.28     ┆ 275        ┆ 46.29     ┆ 2          ┆ 46.28     ┆ 900       ┆ 2010-05-0 │\n",
       "│ 15:59:59.2 ┆           ┆            ┆           ┆            ┆           ┆           ┆ 3         │\n",
       "│ 04 EDT     ┆           ┆            ┆           ┆            ┆           ┆           ┆           │\n",
       "└────────────┴───────────┴────────────┴───────────┴────────────┴───────────┴───────────┴───────────┘"
      ],
      "text/html": [
       "<div><style>\n",
       ".dataframe > thead > tr,\n",
       ".dataframe > tbody > tr {\n",
       "  text-align: right;\n",
       "  white-space: pre-wrap;\n",
       "}\n",
       "</style>\n",
       "<small>shape: (4_184, 8)</small><table border=\"1\" class=\"dataframe\"><thead><tr><th>index</th><th>bid-price</th><th>bid-volume</th><th>ask-price</th><th>ask-volume</th><th>trade-price</th><th>trade-volume</th><th>date</th></tr><tr><td>datetime[μs, America/New_York]</td><td>f64</td><td>i32</td><td>f64</td><td>i32</td><td>f64</td><td>i32</td><td>date</td></tr></thead><tbody><tr><td>2010-05-03 09:30:00.638 EDT</td><td>45.06</td><td>1</td><td>45.53</td><td>1</td><td>45.13</td><td>200</td><td>2010-05-03</td></tr><tr><td>2010-05-03 09:30:03.871 EDT</td><td>45.21</td><td>1</td><td>45.37</td><td>4</td><td>45.21</td><td>100</td><td>2010-05-03</td></tr><tr><td>2010-05-03 09:30:06.277 EDT</td><td>45.19</td><td>4</td><td>45.36</td><td>2</td><td>45.2</td><td>100</td><td>2010-05-03</td></tr><tr><td>2010-05-03 09:30:06.289 EDT</td><td>45.19</td><td>6</td><td>45.36</td><td>2</td><td>45.316</td><td>500</td><td>2010-05-03</td></tr><tr><td>2010-05-03 09:30:10.254 EDT</td><td>45.21</td><td>1</td><td>45.34</td><td>2</td><td>45.21</td><td>100</td><td>2010-05-03</td></tr><tr><td>&hellip;</td><td>&hellip;</td><td>&hellip;</td><td>&hellip;</td><td>&hellip;</td><td>&hellip;</td><td>&hellip;</td><td>&hellip;</td></tr><tr><td>2010-05-03 15:59:53.012999 EDT</td><td>46.28</td><td>249</td><td>46.3</td><td>4</td><td>46.29</td><td>600</td><td>2010-05-03</td></tr><tr><td>2010-05-03 15:59:54.416 EDT</td><td>46.28</td><td>249</td><td>46.3</td><td>4</td><td>46.28</td><td>100</td><td>2010-05-03</td></tr><tr><td>2010-05-03 15:59:57.126 EDT</td><td>46.28</td><td>247</td><td>46.3</td><td>7</td><td>46.3</td><td>200</td><td>2010-05-03</td></tr><tr><td>2010-05-03 15:59:57.520 EDT</td><td>46.28</td><td>247</td><td>46.3</td><td>7</td><td>46.28</td><td>100</td><td>2010-05-03</td></tr><tr><td>2010-05-03 15:59:59.204 EDT</td><td>46.28</td><td>275</td><td>46.29</td><td>2</td><td>46.28</td><td>900</td><td>2010-05-03</td></tr></tbody></table></div>"
      ]
     },
     "execution_count": 23,
     "metadata": {},
     "output_type": "execute_result"
    }
   ],
   "execution_count": 23
  },
  {
   "metadata": {},
   "cell_type": "code",
   "outputs": [],
   "execution_count": null,
   "source": "",
   "id": "6c4a95344d1823c4"
  }
 ],
 "metadata": {
  "kernelspec": {
   "display_name": "Python 3",
   "language": "python",
   "name": "python3"
  },
  "language_info": {
   "codemirror_mode": {
    "name": "ipython",
    "version": 2
   },
   "file_extension": ".py",
   "mimetype": "text/x-python",
   "name": "python",
   "nbconvert_exporter": "python",
   "pygments_lexer": "ipython2",
   "version": "2.7.6"
  }
 },
 "nbformat": 4,
 "nbformat_minor": 5
}
